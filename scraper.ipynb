{
 "cells": [
  {
   "cell_type": "code",
   "execution_count": 1,
   "metadata": {},
   "outputs": [],
   "source": [
    "import bs4\n",
    "import requests"
   ]
  },
  {
   "cell_type": "code",
   "execution_count": 2,
   "metadata": {},
   "outputs": [],
   "source": [
    "page = requests.get(\"https://harddrop.com/wiki/PC_Opener_Success_Rates\")"
   ]
  },
  {
   "cell_type": "code",
   "execution_count": 3,
   "metadata": {},
   "outputs": [],
   "source": [
    "BS = bs4.BeautifulSoup(page.content)"
   ]
  },
  {
   "cell_type": "code",
   "execution_count": 4,
   "metadata": {},
   "outputs": [],
   "source": [
    "yeet = BS.find_all('table')"
   ]
  },
  {
   "cell_type": "code",
   "execution_count": 27,
   "metadata": {},
   "outputs": [],
   "source": [
    "def extract_valid_solutions(tables):\n",
    "    results = {\n",
    "        \"setup1\": [],\n",
    "        \"setup2\": []\n",
    "    }\n",
    "    for table in tables:\n",
    "        stuff = table.findAll('td')\n",
    "        for i in range(0,len(stuff),14):\n",
    "            haha1 = stuff[i+9].contents[0]\n",
    "            haha2 = stuff[i+11].contents[0]\n",
    "            combo = \"\\\"\" + str(stuff[i+8].contents[0]).strip() + \"\\\",\"\n",
    "            if haha1.find(u'\\u2713') > 0:\n",
    "                results[\"setup1\"].append(combo)\n",
    "            if haha2.find(u'\\u2713') > 0:\n",
    "                results[\"setup2\"].append(combo)\n",
    "    return results"
   ]
  },
  {
   "cell_type": "code",
   "execution_count": 28,
   "metadata": {},
   "outputs": [],
   "source": [
    "ofk = extract_valid_solutions(yeet[7:])"
   ]
  },
  {
   "cell_type": "code",
   "execution_count": 9,
   "metadata": {},
   "outputs": [],
   "source": [
    "with open('setup1.txt','w') as f:\n",
    "    f.write('\\n'.join(ofk['setup1']))"
   ]
  },
  {
   "cell_type": "code",
   "execution_count": 29,
   "metadata": {},
   "outputs": [],
   "source": [
    "with open('./solutions/setup2.txt','w') as f:\n",
    "    f.write('\\n'.join(ofk['setup2']))"
   ]
  },
  {
   "cell_type": "code",
   "execution_count": null,
   "metadata": {},
   "outputs": [],
   "source": []
  },
  {
   "cell_type": "code",
   "execution_count": null,
   "metadata": {},
   "outputs": [],
   "source": []
  }
 ],
 "metadata": {
  "kernelspec": {
   "display_name": "Python 2",
   "language": "python",
   "name": "python2"
  },
  "language_info": {
   "codemirror_mode": {
    "name": "ipython",
    "version": 2
   },
   "file_extension": ".py",
   "mimetype": "text/x-python",
   "name": "python",
   "nbconvert_exporter": "python",
   "pygments_lexer": "ipython2",
   "version": "2.7.15"
  }
 },
 "nbformat": 4,
 "nbformat_minor": 2
}
